{
 "cells": [
  {
   "cell_type": "markdown",
   "id": "3d51be4b",
   "metadata": {},
   "source": [
    "# 10 Numpy Excercises - Practise Problems"
   ]
  },
  {
   "cell_type": "code",
   "execution_count": 1,
   "id": "7d50548a",
   "metadata": {},
   "outputs": [],
   "source": [
    "import numpy as np"
   ]
  },
  {
   "cell_type": "markdown",
   "id": "ba0a706c",
   "metadata": {},
   "source": [
    "Excercise 1: \n",
    "\n",
    "Create a 4X2 integer array and Prints its attributes\n",
    "Note: The element must be a type of unsigned int16.  \n",
    "\n",
    "Print the following Attributes: –\n",
    "1) The shape of an array.\n",
    "2) Array dimensions.\n",
    "3) The Length of each element of the array in bytes.\n",
    "\n",
    "Output:\n",
    "\n",
    "Printing Array\n",
    "\n",
    "[[64392 31655]\n",
    " [32579     0]\n",
    " [49248   462]\n",
    " [    0     0]]\n",
    "\n",
    "Printing NumPy array Attributes\n",
    "\n",
    "1) Array Shape is:  (4, 2)\n",
    "2) Array dimensions are  2\n",
    "3) Length of each element of array in bytes is  2"
   ]
  },
  {
   "cell_type": "code",
   "execution_count": 26,
   "id": "28d9b533",
   "metadata": {},
   "outputs": [],
   "source": [
    "a = np.empty([4,2], dtype = 'i')"
   ]
  },
  {
   "cell_type": "code",
   "execution_count": 27,
   "id": "a68b2c97",
   "metadata": {},
   "outputs": [
    {
     "name": "stdout",
     "output_type": "stream",
     "text": [
      "printing array:\n",
      "[[   0    1]\n",
      " [   0  612]\n",
      " [1304    0]\n",
      " [ 768    0]]\n",
      "printing number of attributes\n",
      "1>array shape is -  (4, 2)\n",
      "2>array dimension is - 2\n",
      "3>. Length of each element of array in bytes is  4\n"
     ]
    }
   ],
   "source": [
    "print(\"printing array:\")\n",
    "print(a)\n",
    "\n",
    "print(\"printing number of attributes\")\n",
    "print(\"1>array shape is - \", a.shape)\n",
    "print(\"2>array dimension is -\", a.ndim)\n",
    "print(\"3>. Length of each element of array in bytes is \", a.itemsize)"
   ]
  },
  {
   "cell_type": "markdown",
   "id": "ed997d60",
   "metadata": {},
   "source": [
    "Exercise 2: \n",
    "\n",
    "Create a 5X2 integer array from a range between 100 to 200 such that the difference between each element is 10\n",
    "\n",
    "Expected Output:\n",
    "\n",
    "\n",
    "Creating 5X2 array using numpy.arange\n",
    "[[100 110]\n",
    " [120 130]\n",
    " [140 150]\n",
    " [160 170]\n",
    " [180 190]]"
   ]
  },
  {
   "cell_type": "code",
   "execution_count": 33,
   "id": "58c00956",
   "metadata": {
    "scrolled": true
   },
   "outputs": [
    {
     "name": "stdout",
     "output_type": "stream",
     "text": [
      "[[100 110]\n",
      " [120 130]\n",
      " [140 150]\n",
      " [160 170]\n",
      " [180 190]]\n"
     ]
    }
   ],
   "source": [
    "array1 = np.arange(100,200,10).reshape(5,2)\n",
    "print(\"expected output\")\n",
    "print(array1)"
   ]
  },
  {
   "cell_type": "markdown",
   "id": "13562bb1",
   "metadata": {},
   "source": [
    "Exercise 3: \n",
    "Following is the provided numPy array. Return array of items by taking the third column from all rows\n",
    "\n",
    "Input:\n",
    "\n",
    "sampleArray = numpy.array([[11 ,22, 33], [44, 55, 66], [77, 88, 99]])\n",
    "\n",
    "Output:\n",
    "\n",
    "Printing Input Array\n",
    "[[11 22 33]\n",
    " [44 55 66]\n",
    " [77 88 99]]\n",
    "\n",
    "Printing array of items in the third column from all rows\n",
    "[33 66 99]"
   ]
  },
  {
   "cell_type": "code",
   "execution_count": 41,
   "id": "cbc4b2b8",
   "metadata": {},
   "outputs": [
    {
     "name": "stdout",
     "output_type": "stream",
     "text": [
      "input array:  [[11 22 33  1]\n",
      " [44 55 66  4]\n",
      " [77 88 99 10]]\n",
      "items from 3rd column:  [33, 66, 99]\n",
      "alternate approach: [33 66 99]\n"
     ]
    }
   ],
   "source": [
    "sampleArray = np.array([[11 ,22, 33, 1], [44, 55, 66, 4], [77, 88, 99, 10]])\n",
    "newArray = []\n",
    "\n",
    "# Option 1:\n",
    "n = len(sampleArray)\n",
    "# print(n)\n",
    "for i in range(n):\n",
    "    newArray.append(sampleArray[i,2])\n",
    "print(\"input array: \", sampleArray)\n",
    "print(\"items from 3rd column: \", newArray)\n",
    "\n",
    "# Option 2\n",
    "newArray1 = sampleArray[...,2]\n",
    "print(\"alternate approach:\", newArray1)\n"
   ]
  },
  {
   "cell_type": "markdown",
   "id": "f02cd5f7",
   "metadata": {},
   "source": [
    "Exercise 4: \n",
    "\n",
    "Return array of odd rows and even columns from below numpy array\n",
    "\n",
    "Input:\n",
    "\n",
    "sampleArray = numpy.array([[3 ,6, 9, 12], [15 ,18, 21, 24], \n",
    "[27 ,30, 33, 36], [39 ,42, 45, 48], [51 ,54, 57, 60]])\n",
    "\n",
    "Output:\n",
    "\n",
    "Printing Input Array\n",
    "[[ 3  6  9 12]\n",
    " [15 18 21 24]\n",
    " [27 30 33 36]\n",
    " [39 42 45 48]\n",
    " [51 54 57 60]]\n",
    "\n",
    "Printing array of odd rows and even columns\n",
    "[[ 6 12]\n",
    " [30 36]\n",
    " [54 60]]"
   ]
  },
  {
   "cell_type": "code",
   "execution_count": 55,
   "id": "dbd45119",
   "metadata": {},
   "outputs": [
    {
     "name": "stdout",
     "output_type": "stream",
     "text": [
      "input array: \n",
      " [[ 3  6  9 12]\n",
      " [15 18 21 24]\n",
      " [27 30 33 36]\n",
      " [39 42 45 48]\n",
      " [51 54 57 60]]\n",
      "output: \n",
      "[[ 6 12]\n",
      " [30 36]\n",
      " [54 60]]\n",
      "Simple Approach: \n",
      " [[ 6 12]\n",
      " [30 36]\n",
      " [54 60]]\n"
     ]
    }
   ],
   "source": [
    "import math\n",
    "\n",
    "sampleArray = np.array([[3 ,6, 9, 12], [15 ,18, 21, 24], [27 ,30, 33, 36], [39 ,42, 45, 48], [51 ,54, 57, 60]])\n",
    "print(\"input array: \\n\", sampleArray)\n",
    "\n",
    "# Long Approach\n",
    "\n",
    "row = len(sampleArray)\n",
    "col = len(sampleArray[0])\n",
    "\n",
    "newArray = []\n",
    "\n",
    "for i in range(row):\n",
    "    for j in range(col):\n",
    "        if i%2 == 0:\n",
    "            if j%2 != 0:\n",
    "                newArray.append(sampleArray[i,j])\n",
    "\n",
    "newArray = np.array(newArray)\n",
    "print(\"output: \")\n",
    "row_1 = math.ceil(row/2)\n",
    "col_1 = math.ceil(col/2)\n",
    "print(newArray.reshape(row_1,col_1))\n",
    "\n",
    "# Simpler Approach\n",
    "new_arr_simple = sampleArray[::2,1::2]\n",
    "print(\"Simple Approach: \\n\", new_arr_simple)"
   ]
  },
  {
   "cell_type": "markdown",
   "id": "4268f734",
   "metadata": {},
   "source": [
    "Exercise 5: \n",
    "\n",
    "Create a result array by adding the following two NumPy arrays. Next, modify the result array by calculating the square of each element\n",
    "\n",
    "Input:\n",
    "\n",
    "arrayOne = numpy.array([[5, 6, 9], [21 ,18, 27]])\n",
    "arrayTwo = numpy.array([[15 ,33, 24], [4 ,7, 1]])\n",
    "\n",
    "Output:\n",
    "\n",
    "addition of two arrays is \n",
    "\n",
    "[[20 39 33]\n",
    " [25 25 28]]\n",
    "\n",
    "Result array after calculating the square root of all elements\n",
    "\n",
    "[[ 400 1521 1089]\n",
    " [ 625  625  784]]"
   ]
  },
  {
   "cell_type": "code",
   "execution_count": 62,
   "id": "534708cb",
   "metadata": {},
   "outputs": [
    {
     "name": "stdout",
     "output_type": "stream",
     "text": [
      "Output of summation\n",
      "[[20 39 33]\n",
      " [25 25 28]]\n",
      "Power of 2: \n",
      " [[ 400 1521 1089]\n",
      " [ 625  625  784]]\n"
     ]
    }
   ],
   "source": [
    "arrayOne = np.array([[5, 6, 9], [21 ,18, 27]])\n",
    "arrayTwo = np.array([[15 ,33, 24], [4 ,7, 1]])\n",
    "\n",
    "arraySum = arrayOne + arrayTwo\n",
    "print(\"Output of summation\")\n",
    "print(arraySum)\n",
    "\n",
    "multSum = arraySum * arraySum\n",
    "\n",
    "print(\"Power of 2: \\n\", multSum)\n"
   ]
  },
  {
   "cell_type": "code",
   "execution_count": 60,
   "id": "8f86f0fb",
   "metadata": {},
   "outputs": [
    {
     "name": "stdout",
     "output_type": "stream",
     "text": [
      "multiply(x1, x2, /, out=None, *, where=True, casting='same_kind', order='K', dtype=None, subok=True[, signature, extobj])\n",
      "\n",
      "Multiply arguments element-wise.\n",
      "\n",
      "Parameters\n",
      "----------\n",
      "x1, x2 : array_like\n",
      "    Input arrays to be multiplied.\n",
      "    If ``x1.shape != x2.shape``, they must be broadcastable to a common\n",
      "    shape (which becomes the shape of the output).\n",
      "out : ndarray, None, or tuple of ndarray and None, optional\n",
      "    A location into which the result is stored. If provided, it must have\n",
      "    a shape that the inputs broadcast to. If not provided or None,\n",
      "    a freshly-allocated array is returned. A tuple (possible only as a\n",
      "    keyword argument) must have length equal to the number of outputs.\n",
      "where : array_like, optional\n",
      "    This condition is broadcast over the input. At locations where the\n",
      "    condition is True, the `out` array will be set to the ufunc result.\n",
      "    Elsewhere, the `out` array will retain its original value.\n",
      "    Note that if an uninitialized `out` array is created via the default\n",
      "    ``out=None``, locations within it where the condition is False will\n",
      "    remain uninitialized.\n",
      "**kwargs\n",
      "    For other keyword-only arguments, see the\n",
      "    :ref:`ufunc docs <ufuncs.kwargs>`.\n",
      "\n",
      "Returns\n",
      "-------\n",
      "y : ndarray\n",
      "    The product of `x1` and `x2`, element-wise.\n",
      "    This is a scalar if both `x1` and `x2` are scalars.\n",
      "\n",
      "Notes\n",
      "-----\n",
      "Equivalent to `x1` * `x2` in terms of array broadcasting.\n",
      "\n",
      "Examples\n",
      "--------\n",
      ">>> np.multiply(2.0, 4.0)\n",
      "8.0\n",
      "\n",
      ">>> x1 = np.arange(9.0).reshape((3, 3))\n",
      ">>> x2 = np.arange(3.0)\n",
      ">>> np.multiply(x1, x2)\n",
      "array([[  0.,   1.,   4.],\n",
      "       [  0.,   4.,  10.],\n",
      "       [  0.,   7.,  16.]])\n",
      "\n",
      "The ``*`` operator can be used as a shorthand for ``np.multiply`` on\n",
      "ndarrays.\n",
      "\n",
      ">>> x1 = np.arange(9.0).reshape((3, 3))\n",
      ">>> x2 = np.arange(3.0)\n",
      ">>> x1 * x2\n",
      "array([[  0.,   1.,   4.],\n",
      "       [  0.,   4.,  10.],\n",
      "       [  0.,   7.,  16.]])\n"
     ]
    }
   ],
   "source": [
    "np.info(np.multiply)"
   ]
  },
  {
   "cell_type": "markdown",
   "id": "c41284b9",
   "metadata": {},
   "source": [
    "Exercise 6: \n",
    "\n",
    "Split the array into four equal-sized sub-arrays\n",
    "Note: Create an 8X3 integer array from a range between 10 to 34 such that the difference between each element is 1 and then Split the array into four equal-sized sub-arrays.\n",
    "\n",
    "Output:\n",
    "\n",
    "Creating 8X3 array using numpy.arange\n",
    "[[10 11 12]\n",
    " [13 14 15]\n",
    " [16 17 18]\n",
    " [19 20 21]\n",
    " [22 23 24]\n",
    " [25 26 27]\n",
    " [28 29 30]\n",
    " [31 32 33]]\n",
    "\n",
    "Dividing 8X3 array into 4 sub array\n",
    "\n",
    "[array([[10, 11, 12],[13, 14, 15]]), \n",
    "array([[16, 17, 18],[19, 20, 21]]), \n",
    "array([[22, 23, 24],[25, 26, 27]]), \n",
    "array([[28, 29, 30],[31, 32, 33]])]"
   ]
  },
  {
   "cell_type": "code",
   "execution_count": 64,
   "id": "3434d8c2",
   "metadata": {},
   "outputs": [
    {
     "name": "stdout",
     "output_type": "stream",
     "text": [
      "[array([[10, 11, 12],\n",
      "       [13, 14, 15]]), array([[16, 17, 18],\n",
      "       [19, 20, 21]]), array([[22, 23, 24],\n",
      "       [25, 26, 27]]), array([[28, 29, 30],\n",
      "       [31, 32, 33]])]\n"
     ]
    }
   ],
   "source": [
    "array1 = np.arange(10,34).reshape(8,3)\n",
    "arrOut = np.array_split(array1,4)\n",
    "print(arrOut)"
   ]
  },
  {
   "cell_type": "markdown",
   "id": "63eec522",
   "metadata": {},
   "source": [
    "Exercise 7: \n",
    "\n",
    "Sort following NumPy array\n",
    "\n",
    "\n",
    "Case 1: Sort array by the second row\n",
    "\n",
    "\n",
    "Case 2: Sort the array by the second column\n",
    "    \n",
    "sampleArray = numpy.array([[34,43,73],[82,22,12],[53,94,66]])\n",
    "\n",
    "Printing Original array\n",
    "[[34 43 73]\n",
    " [82 22 12]\n",
    " [53 94 66]]\n",
    "\n",
    "Sorting Original array by second row\n",
    "[[73 43 34]\n",
    " [12 22 82]\n",
    " [66 94 53]]\n",
    "\n",
    "Sorting Original array by second column\n",
    "[[82 22 12]\n",
    " [34 43 73]\n",
    " [53 94 66]]"
   ]
  },
  {
   "cell_type": "code",
   "execution_count": 71,
   "id": "24ac36bb",
   "metadata": {},
   "outputs": [
    {
     "name": "stdout",
     "output_type": "stream",
     "text": [
      "Input array: \n",
      " [[34 43 73]\n",
      " [82 22 12]\n",
      " [53 94 66]]\n",
      "Sorting Original array by secoond row\n",
      "[[73 43 34]\n",
      " [12 22 82]\n",
      " [66 94 53]]\n",
      "Sorting Original array by secoond column\n",
      "[[82 22 12]\n",
      " [34 43 73]\n",
      " [53 94 66]]\n"
     ]
    }
   ],
   "source": [
    "sampleArray = np.array([[34,43,73],[82,22,12],[53,94,66]])\n",
    "print(\"Input array: \\n\", sampleArray)\n",
    "\n",
    "sortArrayByRow = sampleArray[:,sampleArray[1,:].argsort()]\n",
    "print(\"Sorting Original array by secoond row\")\n",
    "print(sortArrayByRow)\n",
    "\n",
    "print(\"Sorting Original array by secoond column\")\n",
    "sortArrayByColumn = sampleArray[sampleArray[:,1].argsort()]\n",
    "print(sortArrayByColumn)\n",
    "\n",
    "# np.info(np.sort)"
   ]
  },
  {
   "cell_type": "markdown",
   "id": "3dc14a1c",
   "metadata": {},
   "source": [
    "Exercise 8: \n",
    "\n",
    "Print max from axis 0 and min from axis 1 from the following 2-D array.\n",
    "\n",
    "sampleArray = numpy.array([[34,43,73],[82,22,12],[53,94,66]])\n",
    "\n",
    "Printing Original array\n",
    "[[34 43 73]\n",
    " [82 22 12]\n",
    " [53 94 66]]\n",
    "\n",
    "Printing amin Of Axis 1\n",
    "[34 12 53]\n",
    "\n",
    "Printing amax Of Axis 0\n",
    "[82 94 73]\n"
   ]
  },
  {
   "cell_type": "code",
   "execution_count": 87,
   "id": "5fe888cc",
   "metadata": {},
   "outputs": [
    {
     "name": "stdout",
     "output_type": "stream",
     "text": [
      "[[34 43 73]\n",
      " [12 22 82]\n",
      " [53 66 94]]\n",
      "[34 12 53]\n",
      "[34 12 53]\n",
      "[82 94 73]\n"
     ]
    }
   ],
   "source": [
    "sampleArray = np.array([[34,43,73],[82,22,12],[53,94,66]])\n",
    "\n",
    "rowSort = np.sort(sampleArray)\n",
    "print(rowSort)\n",
    "\n",
    "minArray = rowSort[...,0]\n",
    "print(minArray)\n",
    "\n",
    "amin = np.amin(sampleArray,1)\n",
    "print(amin)\n",
    "\n",
    "amax = np.amax(sampleArray,0)\n",
    "print(amax)\n",
    "\n"
   ]
  },
  {
   "cell_type": "markdown",
   "id": "f81c14a7",
   "metadata": {},
   "source": [
    "Exercise 9: \n",
    "    \n",
    "Delete the second column from a given array and insert the following new column in its place.\n",
    "\n",
    "sampleArray = numpy.array([[34,43,73],[82,22,12],[53,94,66]]) \n",
    "newColumn = numpy.array([[10,10,10]])\n",
    "\n",
    "Printing Original array\n",
    "[[34 43 73]\n",
    " [82 22 12]\n",
    " [53 94 66]]\n",
    "\n",
    "Array after deleting column 2 on axis 1\n",
    "[[34 73]\n",
    " [82 12]\n",
    " [53 66]]\n",
    "\n",
    "Array after inserting column 2 on axis 1\n",
    "[[34 10 73]\n",
    " [82 10 12]\n",
    " [53 10 66]]"
   ]
  },
  {
   "cell_type": "code",
   "execution_count": 96,
   "id": "9d3853b8",
   "metadata": {},
   "outputs": [
    {
     "name": "stdout",
     "output_type": "stream",
     "text": [
      "[[34 73]\n",
      " [82 12]\n",
      " [53 66]]\n",
      "[[34 10 43 73]\n",
      " [82 10 22 12]\n",
      " [53 10 94 66]]\n"
     ]
    }
   ],
   "source": [
    "sampleArray = np.array([[34,43,73],[82,22,12],[53,94,66]]) \n",
    "newColumn = np.array([[10,10,10]])\n",
    "\n",
    "delArray = np.delete(sampleArray,1,axis = 1)\n",
    "print(delArray)\n",
    "\n",
    "insArray = np.insert(sampleArray,1,newColumn,axis = 1)\n",
    "print(insArray)"
   ]
  },
  {
   "cell_type": "markdown",
   "id": "59bb6e37",
   "metadata": {},
   "source": [
    "Exercise 10: \n",
    "\n",
    "Create two 2-D arrays and Plot them using matplotlib"
   ]
  },
  {
   "cell_type": "code",
   "execution_count": 111,
   "id": "7b6d8946",
   "metadata": {},
   "outputs": [
    {
     "name": "stdout",
     "output_type": "stream",
     "text": [
      "[[ 4 31]\n",
      " [ 9 15]\n",
      " [51  3]\n",
      " [ 3 14]\n",
      " [67 36]\n",
      " [51 66]\n",
      " [84 93]\n",
      " [31 42]\n",
      " [56 72]\n",
      " [29 14]]\n"
     ]
    },
    {
     "data": {
      "text/plain": [
       "[<matplotlib.lines.Line2D at 0x264218d65c0>,\n",
       " <matplotlib.lines.Line2D at 0x264218d6620>]"
      ]
     },
     "execution_count": 111,
     "metadata": {},
     "output_type": "execute_result"
    },
    {
     "data": {
      "image/png": "[encoded data removed]",
      "text/plain": [
       "<Figure size 640x480 with 1 Axes>"
      ]
     },
     "metadata": {},
     "output_type": "display_data"
    }
   ],
   "source": [
    "import matplotlib.pyplot as plt\n",
    "array1 = np.random.randint(100,size=(10,2),dtype=int)\n",
    "print(array1)\n",
    "\n",
    "plt.plot(array1)"
   ]
  },
  {
   "cell_type": "code",
   "execution_count": 102,
   "id": "17e0a45b",
   "metadata": {},
   "outputs": [
    {
     "name": "stdout",
     "output_type": "stream",
     "text": [
      "randint(low, high=None, size=None, dtype=int)\n",
      "\n",
      "Return random integers from `low` (inclusive) to `high` (exclusive).\n",
      "\n",
      "Return random integers from the \"discrete uniform\" distribution of\n",
      "the specified dtype in the \"half-open\" interval [`low`, `high`). If\n",
      "`high` is None (the default), then results are from [0, `low`).\n",
      "\n",
      ".. note::\n",
      "    New code should use the ``integers`` method of a ``default_rng()``\n",
      "    instance instead; please see the :ref:`random-quick-start`.\n",
      "\n",
      "Parameters\n",
      "----------\n",
      "low : int or array-like of ints\n",
      "    Lowest (signed) integers to be drawn from the distribution (unless\n",
      "    ``high=None``, in which case this parameter is one above the\n",
      "    *highest* such integer).\n",
      "high : int or array-like of ints, optional\n",
      "    If provided, one above the largest (signed) integer to be drawn\n",
      "    from the distribution (see above for behavior if ``high=None``).\n",
      "    If array-like, must contain integer values\n",
      "size : int or tuple of ints, optional\n",
      "    Output shape.  If the given shape is, e.g., ``(m, n, k)``, then\n",
      "    ``m * n * k`` samples are drawn.  Default is None, in which case a\n",
      "    single value is returned.\n",
      "dtype : dtype, optional\n",
      "    Desired dtype of the result. Byteorder must be native.\n",
      "    The default value is int.\n",
      "\n",
      "    .. versionadded:: 1.11.0\n",
      "\n",
      "Returns\n",
      "-------\n",
      "out : int or ndarray of ints\n",
      "    `size`-shaped array of random integers from the appropriate\n",
      "    distribution, or a single such random int if `size` not provided.\n",
      "\n",
      "See Also\n",
      "--------\n",
      "random_integers : similar to `randint`, only for the closed\n",
      "    interval [`low`, `high`], and 1 is the lowest value if `high` is\n",
      "    omitted.\n",
      "random.Generator.integers: which should be used for new code.\n",
      "\n",
      "Examples\n",
      "--------\n",
      ">>> np.random.randint(2, size=10)\n",
      "array([1, 0, 0, 0, 1, 1, 0, 0, 1, 0]) # random\n",
      ">>> np.random.randint(1, size=10)\n",
      "array([0, 0, 0, 0, 0, 0, 0, 0, 0, 0])\n",
      "\n",
      "Generate a 2 x 4 array of ints between 0 and 4, inclusive:\n",
      "\n",
      ">>> np.random.randint(5, size=(2, 4))\n",
      "array([[4, 0, 2, 1], # random\n",
      "       [3, 2, 2, 0]])\n",
      "\n",
      "Generate a 1 x 3 array with 3 different upper bounds\n",
      "\n",
      ">>> np.random.randint(1, [3, 5, 10])\n",
      "array([2, 2, 9]) # random\n",
      "\n",
      "Generate a 1 by 3 array with 3 different lower bounds\n",
      "\n",
      ">>> np.random.randint([1, 5, 7], 10)\n",
      "array([9, 8, 7]) # random\n",
      "\n",
      "Generate a 2 by 4 array using broadcasting with dtype of uint8\n",
      "\n",
      ">>> np.random.randint([1, 3, 5, 7], [[10], [20]], dtype=np.uint8)\n",
      "array([[ 8,  6,  9,  7], # random\n",
      "       [ 1, 16,  9, 12]], dtype=uint8)\n"
     ]
    }
   ],
   "source": [
    "np.info(np.random.randint)"
   ]
  }
 ],
 "metadata": {
  "kernelspec": {
   "display_name": "Python 3 (ipykernel)",
   "language": "python",
   "name": "python3"
  },
  "language_info": {
   "codemirror_mode": {
    "name": "ipython",
    "version": 3
   },
   "file_extension": ".py",
   "mimetype": "text/x-python",
   "name": "python",
   "nbconvert_exporter": "python",
   "pygments_lexer": "ipython3",
   "version": "3.10.8"
  }
 },
 "nbformat": 4,
 "nbformat_minor": 5
}
